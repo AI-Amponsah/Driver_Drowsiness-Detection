{
  "nbformat": 4,
  "nbformat_minor": 0,
  "metadata": {
    "colab": {
      "provenance": [],
      "mount_file_id": "1z-LfhVrkGg241e1QjbAoILqxYKKcnpi6",
      "authorship_tag": "ABX9TyOOs6w7raqjX7brXHxYt6gx",
      "include_colab_link": true
    },
    "kernelspec": {
      "name": "python3",
      "display_name": "Python 3"
    },
    "language_info": {
      "name": "python"
    }
  },
  "cells": [
    {
      "cell_type": "markdown",
      "metadata": {
        "id": "view-in-github",
        "colab_type": "text"
      },
      "source": [
        "<a href=\"https://colab.research.google.com/github/AI-Amponsah/Driver_Drowsiness-Detection-FinalYearProject/blob/main/Driver_Drowsiness_CNN.ipynb\" target=\"_parent\"><img src=\"https://colab.research.google.com/assets/colab-badge.svg\" alt=\"Open In Colab\"/></a>"
      ]
    },
    {
      "cell_type": "code",
      "source": [
        "# import libraries"
      ],
      "metadata": {
        "id": "opNxWEYQUzDI"
      },
      "execution_count": 2,
      "outputs": []
    },
    {
      "cell_type": "code",
      "execution_count": 4,
      "metadata": {
        "id": "QoslSMoTUd7V"
      },
      "outputs": [],
      "source": [
        "import numpy as np\n",
        "import tensorflow_datasets as tfds\n",
        "from keras.layers import Dropout\n",
        "import matplotlib.pyplot as plt\n",
        "import tensorflow as tf\n",
        "from tensorflow.keras.layers import Input\n",
        "from tensorflow.keras.models import Sequential\n",
        "from tensorflow.keras.layers import Conv2D, MaxPooling2D, Flatten, Dense, Dropout, Activation\n",
        "from tensorflow.keras import layers\n",
        "from google.colab import drive\n"
      ]
    },
    {
      "cell_type": "code",
      "source": [
        "drive.mount('/content/drive')"
      ],
      "metadata": {
        "colab": {
          "base_uri": "https://localhost:8080/"
        },
        "id": "UwFVeAc4cYIK",
        "outputId": "8a767a22-426a-46d9-d5ca-c958a59f482e"
      },
      "execution_count": 5,
      "outputs": [
        {
          "output_type": "stream",
          "name": "stdout",
          "text": [
            "Drive already mounted at /content/drive; to attempt to forcibly remount, call drive.mount(\"/content/drive\", force_remount=True).\n"
          ]
        }
      ]
    },
    {
      "cell_type": "code",
      "source": [
        "# load datasets"
      ],
      "metadata": {
        "id": "SxzX2jtSUnOb"
      },
      "execution_count": 52,
      "outputs": []
    },
    {
      "cell_type": "code",
      "source": [
        "train_set = tf.keras.utils.image_dataset_from_directory(\n",
        "    \"/content/drive/MyDrive/dataset_new/train\",\n",
        "    shuffle=True,\n",
        "    batch_size=32\n",
        ")"
      ],
      "metadata": {
        "colab": {
          "base_uri": "https://localhost:8080/"
        },
        "id": "PV4s5pLqU76X",
        "outputId": "c7b2bfc6-70f2-43e4-8de0-d2a1812298fe"
      },
      "execution_count": 6,
      "outputs": [
        {
          "output_type": "stream",
          "name": "stdout",
          "text": [
            "Found 2467 files belonging to 4 classes.\n"
          ]
        }
      ]
    },
    {
      "cell_type": "code",
      "source": [
        "test_set = tf.keras.utils.image_dataset_from_directory(\n",
        "    \"/content/drive/MyDrive/dataset_new/test\",\n",
        "    shuffle=True,\n",
        "    batch_size=32\n",
        ")"
      ],
      "metadata": {
        "colab": {
          "base_uri": "https://localhost:8080/"
        },
        "id": "DCOwpbhgVBAP",
        "outputId": "9c4a5c67-69b0-4ceb-b686-0e2cdb8cf770"
      },
      "execution_count": 7,
      "outputs": [
        {
          "output_type": "stream",
          "name": "stdout",
          "text": [
            "Found 433 files belonging to 4 classes.\n"
          ]
        }
      ]
    },
    {
      "cell_type": "code",
      "source": [
        "# printing classes"
      ],
      "metadata": {
        "id": "ZbM21lmeVELV"
      },
      "execution_count": 3,
      "outputs": []
    },
    {
      "cell_type": "code",
      "source": [
        "class_names = test_set.class_names\n",
        "class_names"
      ],
      "metadata": {
        "colab": {
          "base_uri": "https://localhost:8080/"
        },
        "id": "FEh07CWGVKoY",
        "outputId": "0e83d469-b240-402b-a923-60090877ceee"
      },
      "execution_count": 8,
      "outputs": [
        {
          "output_type": "execute_result",
          "data": {
            "text/plain": [
              "['Closed', 'Open', 'no_yawn', 'yawn']"
            ]
          },
          "metadata": {},
          "execution_count": 8
        }
      ]
    },
    {
      "cell_type": "code",
      "source": [
        "class_names = train_set.class_names\n",
        "class_names"
      ],
      "metadata": {
        "colab": {
          "base_uri": "https://localhost:8080/"
        },
        "id": "N9W129DbVUuh",
        "outputId": "0ac551e5-6fb2-46f6-8ab9-4167f9ac00cb"
      },
      "execution_count": 9,
      "outputs": [
        {
          "output_type": "execute_result",
          "data": {
            "text/plain": [
              "['Closed', 'Open', 'no_yawn', 'yawn']"
            ]
          },
          "metadata": {},
          "execution_count": 9
        }
      ]
    },
    {
      "cell_type": "code",
      "source": [
        "# len(test_set)"
      ],
      "metadata": {
        "colab": {
          "base_uri": "https://localhost:8080/"
        },
        "id": "4x9vOpvgVX_g",
        "outputId": "5d9ed285-b3f3-4596-9fb2-06fe69d84b3e"
      },
      "execution_count": 37,
      "outputs": [
        {
          "output_type": "execute_result",
          "data": {
            "text/plain": [
              "14"
            ]
          },
          "metadata": {},
          "execution_count": 37
        }
      ]
    },
    {
      "cell_type": "code",
      "source": [
        "# len(train_set)"
      ],
      "metadata": {
        "id": "_VRByB-4VazU"
      },
      "execution_count": null,
      "outputs": []
    },
    {
      "cell_type": "code",
      "source": [
        "IMG_SIZE = 180\n",
        "\n",
        "resize_and_rescale = tf.keras.Sequential([\n",
        "  layers.Resizing(IMG_SIZE, IMG_SIZE),\n",
        "  layers.Rescaling(1./255)\n",
        "])\n"
      ],
      "metadata": {
        "id": "AtNG_HW1-Ga7"
      },
      "execution_count": 10,
      "outputs": []
    },
    {
      "cell_type": "code",
      "source": [
        "data_augmentation = tf.keras.Sequential([\n",
        "  layers.RandomFlip(\"horizontal_and_vertical\"),\n",
        "  layers.RandomRotation(0.2),\n",
        "])\n"
      ],
      "metadata": {
        "id": "lAwaG03UELrR"
      },
      "execution_count": 11,
      "outputs": []
    },
    {
      "cell_type": "code",
      "source": [
        "train_set = train_set.map(lambda x, y: (resize_and_rescale(x), y))\n",
        "train_set = train_set.map(lambda x, y: (data_augmentation(x, training=True), y))\n",
        "\n",
        "test_set = test_set.map(lambda x, y: (resize_and_rescale(x), y))\n"
      ],
      "metadata": {
        "id": "i6a1taYiF_9r"
      },
      "execution_count": 12,
      "outputs": []
    },
    {
      "cell_type": "code",
      "source": [
        "# printing the values of a batch"
      ],
      "metadata": {
        "id": "MRymwbdQVfOR"
      },
      "execution_count": null,
      "outputs": []
    },
    {
      "cell_type": "code",
      "source": [
        "for image_batch, label_batch in train_set.take(1):\n",
        "    print(image_batch.shape)\n",
        "    print(label_batch.numpy())"
      ],
      "metadata": {
        "colab": {
          "base_uri": "https://localhost:8080/"
        },
        "id": "Jymg-a75VlXs",
        "outputId": "9bfa5918-8c18-483f-e2ae-13bab3f3413c"
      },
      "execution_count": 13,
      "outputs": [
        {
          "output_type": "stream",
          "name": "stdout",
          "text": [
            "(32, 180, 180, 3)\n",
            "[2 2 1 3 3 3 0 0 1 3 1 1 2 1 1 3 0 0 1 2 0 3 1 0 3 2 3 3 3 0 0 3]\n"
          ]
        }
      ]
    },
    {
      "cell_type": "code",
      "source": [
        "for image_batch, label_batch in train_set.take(1):\n",
        "    plt.imshow(image_batch[0].numpy().astype(\"uint8\"))\n",
        "    # plt.show()"
      ],
      "metadata": {
        "id": "RDYROK1yVpMM"
      },
      "execution_count": null,
      "outputs": []
    },
    {
      "cell_type": "code",
      "source": [
        "# Building Model"
      ],
      "metadata": {
        "id": "mEFBOnZMVsiZ"
      },
      "execution_count": 62,
      "outputs": []
    },
    {
      "cell_type": "code",
      "source": [
        "model = tf.keras.Sequential([\n",
        "  layers.Conv2D(16, 3, padding='same', activation='relu'),\n",
        "  layers.MaxPooling2D(),\n",
        "  layers.Conv2D(32, 3, padding='same', activation='relu'),\n",
        "  layers.MaxPooling2D(),\n",
        "  layers.Conv2D(64, 3, padding='same', activation='relu'),\n",
        "  layers.MaxPooling2D(),\n",
        "  layers.Flatten(),\n",
        "  layers.Dense(128, activation='relu'),\n",
        "  layers.Dense(len(class_names))\n",
        "])\n",
        "\n",
        "model.compile(optimizer='adam',\n",
        "              loss=tf.keras.losses.SparseCategoricalCrossentropy(from_logits=True),\n",
        "              metrics=['accuracy'])\n",
        "\n",
        "epochs = 60\n",
        "history = model.fit(\n",
        "  train_set,\n",
        "  validation_data=test_set,\n",
        "  epochs=epochs\n",
        ")"
      ],
      "metadata": {
        "colab": {
          "base_uri": "https://localhost:8080/"
        },
        "id": "UZ2NfoFXV0kf",
        "outputId": "faf884b4-c664-4454-f4e8-091e83735ddf"
      },
      "execution_count": 14,
      "outputs": [
        {
          "output_type": "stream",
          "name": "stdout",
          "text": [
            "Epoch 1/60\n",
            "78/78 [==============================] - 342s 4s/step - loss: 0.8944 - accuracy: 0.5813 - val_loss: 0.5293 - val_accuracy: 0.7298\n",
            "Epoch 2/60\n",
            "78/78 [==============================] - 102s 1s/step - loss: 0.4714 - accuracy: 0.7637 - val_loss: 0.4713 - val_accuracy: 0.7436\n",
            "Epoch 3/60\n",
            "78/78 [==============================] - 101s 1s/step - loss: 0.4344 - accuracy: 0.7750 - val_loss: 0.5096 - val_accuracy: 0.7344\n",
            "Epoch 4/60\n",
            "78/78 [==============================] - 107s 1s/step - loss: 0.4243 - accuracy: 0.7815 - val_loss: 0.4377 - val_accuracy: 0.7783\n",
            "Epoch 5/60\n",
            "78/78 [==============================] - 95s 1s/step - loss: 0.4149 - accuracy: 0.7807 - val_loss: 0.4220 - val_accuracy: 0.7852\n",
            "Epoch 6/60\n",
            "78/78 [==============================] - 102s 1s/step - loss: 0.4007 - accuracy: 0.7896 - val_loss: 0.4249 - val_accuracy: 0.7506\n",
            "Epoch 7/60\n",
            "78/78 [==============================] - 96s 1s/step - loss: 0.4165 - accuracy: 0.7884 - val_loss: 0.4179 - val_accuracy: 0.7598\n",
            "Epoch 8/60\n",
            "78/78 [==============================] - 96s 1s/step - loss: 0.3878 - accuracy: 0.7900 - val_loss: 0.4197 - val_accuracy: 0.7898\n",
            "Epoch 9/60\n",
            "78/78 [==============================] - 103s 1s/step - loss: 0.3839 - accuracy: 0.8006 - val_loss: 0.4728 - val_accuracy: 0.7598\n",
            "Epoch 10/60\n",
            "78/78 [==============================] - 99s 1s/step - loss: 0.3881 - accuracy: 0.7953 - val_loss: 0.4251 - val_accuracy: 0.7968\n",
            "Epoch 11/60\n",
            "78/78 [==============================] - 99s 1s/step - loss: 0.3662 - accuracy: 0.7965 - val_loss: 0.4426 - val_accuracy: 0.7921\n",
            "Epoch 12/60\n",
            "78/78 [==============================] - 100s 1s/step - loss: 0.3621 - accuracy: 0.8131 - val_loss: 0.3846 - val_accuracy: 0.8083\n",
            "Epoch 13/60\n",
            "78/78 [==============================] - 104s 1s/step - loss: 0.3482 - accuracy: 0.8164 - val_loss: 0.4876 - val_accuracy: 0.7182\n",
            "Epoch 14/60\n",
            "78/78 [==============================] - 98s 1s/step - loss: 0.3451 - accuracy: 0.8176 - val_loss: 0.3626 - val_accuracy: 0.8152\n",
            "Epoch 15/60\n",
            "78/78 [==============================] - 101s 1s/step - loss: 0.3408 - accuracy: 0.8253 - val_loss: 0.5924 - val_accuracy: 0.7298\n",
            "Epoch 16/60\n",
            "78/78 [==============================] - 107s 1s/step - loss: 0.3440 - accuracy: 0.8152 - val_loss: 0.3624 - val_accuracy: 0.8083\n",
            "Epoch 17/60\n",
            "78/78 [==============================] - 100s 1s/step - loss: 0.3238 - accuracy: 0.8435 - val_loss: 0.3431 - val_accuracy: 0.8314\n",
            "Epoch 18/60\n",
            "78/78 [==============================] - 108s 1s/step - loss: 0.3426 - accuracy: 0.8334 - val_loss: 0.3656 - val_accuracy: 0.8106\n",
            "Epoch 19/60\n",
            "78/78 [==============================] - 99s 1s/step - loss: 0.3280 - accuracy: 0.8310 - val_loss: 0.4048 - val_accuracy: 0.7968\n",
            "Epoch 20/60\n",
            "78/78 [==============================] - 103s 1s/step - loss: 0.3171 - accuracy: 0.8391 - val_loss: 0.3324 - val_accuracy: 0.8430\n",
            "Epoch 21/60\n",
            "78/78 [==============================] - 100s 1s/step - loss: 0.3063 - accuracy: 0.8512 - val_loss: 0.3365 - val_accuracy: 0.8176\n",
            "Epoch 22/60\n",
            "78/78 [==============================] - 95s 1s/step - loss: 0.3042 - accuracy: 0.8488 - val_loss: 0.3446 - val_accuracy: 0.8199\n",
            "Epoch 23/60\n",
            "78/78 [==============================] - 102s 1s/step - loss: 0.3133 - accuracy: 0.8549 - val_loss: 0.3250 - val_accuracy: 0.8314\n",
            "Epoch 24/60\n",
            "78/78 [==============================] - 99s 1s/step - loss: 0.2950 - accuracy: 0.8646 - val_loss: 0.3196 - val_accuracy: 0.8222\n",
            "Epoch 25/60\n",
            "78/78 [==============================] - 101s 1s/step - loss: 0.2915 - accuracy: 0.8610 - val_loss: 0.3440 - val_accuracy: 0.8314\n",
            "Epoch 26/60\n",
            "78/78 [==============================] - 101s 1s/step - loss: 0.2910 - accuracy: 0.8606 - val_loss: 0.2953 - val_accuracy: 0.8614\n",
            "Epoch 27/60\n",
            "78/78 [==============================] - 103s 1s/step - loss: 0.2754 - accuracy: 0.8772 - val_loss: 0.2852 - val_accuracy: 0.8753\n",
            "Epoch 28/60\n",
            "78/78 [==============================] - 95s 1s/step - loss: 0.2720 - accuracy: 0.8679 - val_loss: 0.2954 - val_accuracy: 0.8776\n",
            "Epoch 29/60\n",
            "78/78 [==============================] - 104s 1s/step - loss: 0.2539 - accuracy: 0.8910 - val_loss: 0.2736 - val_accuracy: 0.8730\n",
            "Epoch 30/60\n",
            "78/78 [==============================] - 104s 1s/step - loss: 0.2258 - accuracy: 0.9019 - val_loss: 0.2879 - val_accuracy: 0.8868\n",
            "Epoch 31/60\n",
            "78/78 [==============================] - 99s 1s/step - loss: 0.2379 - accuracy: 0.8999 - val_loss: 0.3119 - val_accuracy: 0.8614\n",
            "Epoch 32/60\n",
            "78/78 [==============================] - 102s 1s/step - loss: 0.2095 - accuracy: 0.9116 - val_loss: 0.2534 - val_accuracy: 0.8822\n",
            "Epoch 33/60\n",
            "78/78 [==============================] - 100s 1s/step - loss: 0.1921 - accuracy: 0.9201 - val_loss: 0.2939 - val_accuracy: 0.8753\n",
            "Epoch 34/60\n",
            "78/78 [==============================] - 96s 1s/step - loss: 0.1782 - accuracy: 0.9291 - val_loss: 0.2582 - val_accuracy: 0.8984\n",
            "Epoch 35/60\n",
            "78/78 [==============================] - 99s 1s/step - loss: 0.1983 - accuracy: 0.9262 - val_loss: 0.2373 - val_accuracy: 0.8961\n",
            "Epoch 36/60\n",
            "78/78 [==============================] - 100s 1s/step - loss: 0.2124 - accuracy: 0.9145 - val_loss: 0.2267 - val_accuracy: 0.8938\n",
            "Epoch 37/60\n",
            "78/78 [==============================] - 103s 1s/step - loss: 0.1669 - accuracy: 0.9364 - val_loss: 0.2464 - val_accuracy: 0.9007\n",
            "Epoch 38/60\n",
            "78/78 [==============================] - 99s 1s/step - loss: 0.1570 - accuracy: 0.9396 - val_loss: 0.2219 - val_accuracy: 0.9076\n",
            "Epoch 39/60\n",
            "78/78 [==============================] - 99s 1s/step - loss: 0.1562 - accuracy: 0.9392 - val_loss: 0.2246 - val_accuracy: 0.9007\n",
            "Epoch 40/60\n",
            "78/78 [==============================] - 96s 1s/step - loss: 0.1630 - accuracy: 0.9360 - val_loss: 0.2352 - val_accuracy: 0.9099\n",
            "Epoch 41/60\n",
            "78/78 [==============================] - 98s 1s/step - loss: 0.1575 - accuracy: 0.9372 - val_loss: 0.2318 - val_accuracy: 0.9053\n",
            "Epoch 42/60\n",
            "78/78 [==============================] - 99s 1s/step - loss: 0.1500 - accuracy: 0.9400 - val_loss: 0.2735 - val_accuracy: 0.8776\n",
            "Epoch 43/60\n",
            "78/78 [==============================] - 96s 1s/step - loss: 0.1358 - accuracy: 0.9477 - val_loss: 0.2449 - val_accuracy: 0.9076\n",
            "Epoch 44/60\n",
            "78/78 [==============================] - 92s 1s/step - loss: 0.1250 - accuracy: 0.9538 - val_loss: 0.1965 - val_accuracy: 0.9423\n",
            "Epoch 45/60\n",
            "78/78 [==============================] - 91s 1s/step - loss: 0.1305 - accuracy: 0.9510 - val_loss: 0.2849 - val_accuracy: 0.8730\n",
            "Epoch 46/60\n",
            "78/78 [==============================] - 101s 1s/step - loss: 0.1185 - accuracy: 0.9522 - val_loss: 0.2012 - val_accuracy: 0.9353\n",
            "Epoch 47/60\n",
            "78/78 [==============================] - 94s 1s/step - loss: 0.1158 - accuracy: 0.9554 - val_loss: 0.3204 - val_accuracy: 0.8961\n",
            "Epoch 48/60\n",
            "78/78 [==============================] - 101s 1s/step - loss: 0.1062 - accuracy: 0.9627 - val_loss: 0.2616 - val_accuracy: 0.9122\n",
            "Epoch 49/60\n",
            "78/78 [==============================] - 95s 1s/step - loss: 0.1359 - accuracy: 0.9485 - val_loss: 0.2105 - val_accuracy: 0.9261\n",
            "Epoch 50/60\n",
            "78/78 [==============================] - 96s 1s/step - loss: 0.1164 - accuracy: 0.9587 - val_loss: 0.2421 - val_accuracy: 0.9261\n",
            "Epoch 51/60\n",
            "78/78 [==============================] - 95s 1s/step - loss: 0.1012 - accuracy: 0.9607 - val_loss: 0.2622 - val_accuracy: 0.9192\n",
            "Epoch 52/60\n",
            "78/78 [==============================] - 99s 1s/step - loss: 0.1011 - accuracy: 0.9611 - val_loss: 0.1899 - val_accuracy: 0.9261\n",
            "Epoch 53/60\n",
            "78/78 [==============================] - 94s 1s/step - loss: 0.0963 - accuracy: 0.9651 - val_loss: 0.1853 - val_accuracy: 0.9400\n",
            "Epoch 54/60\n",
            "78/78 [==============================] - 102s 1s/step - loss: 0.0833 - accuracy: 0.9704 - val_loss: 0.2298 - val_accuracy: 0.9215\n",
            "Epoch 55/60\n",
            "78/78 [==============================] - 100s 1s/step - loss: 0.0959 - accuracy: 0.9660 - val_loss: 0.1957 - val_accuracy: 0.9400\n",
            "Epoch 56/60\n",
            "78/78 [==============================] - 102s 1s/step - loss: 0.0792 - accuracy: 0.9741 - val_loss: 0.1802 - val_accuracy: 0.9492\n",
            "Epoch 57/60\n",
            "78/78 [==============================] - 92s 1s/step - loss: 0.0938 - accuracy: 0.9623 - val_loss: 0.1584 - val_accuracy: 0.9561\n",
            "Epoch 58/60\n",
            "78/78 [==============================] - 98s 1s/step - loss: 0.0800 - accuracy: 0.9668 - val_loss: 0.1858 - val_accuracy: 0.9538\n",
            "Epoch 59/60\n",
            "78/78 [==============================] - 93s 1s/step - loss: 0.0779 - accuracy: 0.9688 - val_loss: 0.1865 - val_accuracy: 0.9423\n",
            "Epoch 60/60\n",
            "78/78 [==============================] - 100s 1s/step - loss: 0.0931 - accuracy: 0.9684 - val_loss: 0.1732 - val_accuracy: 0.9353\n"
          ]
        }
      ]
    },
    {
      "cell_type": "code",
      "source": [
        "# Model Evaluation"
      ],
      "metadata": {
        "id": "vvqqsUGZV5Hk"
      },
      "execution_count": 65,
      "outputs": []
    },
    {
      "cell_type": "code",
      "source": [
        "test_loss, test_accuracy = model.evaluate(test_set)\n",
        "\n",
        "print(\"Test Accuracy:\",test_accuracy )\n",
        "print(\"Test Loss:\", test_loss)"
      ],
      "metadata": {
        "colab": {
          "base_uri": "https://localhost:8080/"
        },
        "id": "Fw4PBFqZV9yu",
        "outputId": "48691430-145a-4994-c9b9-be608093c3ed"
      },
      "execution_count": 15,
      "outputs": [
        {
          "output_type": "stream",
          "name": "stdout",
          "text": [
            "14/14 [==============================] - 6s 305ms/step - loss: 0.1732 - accuracy: 0.9353\n",
            "Test Accuracy: 0.9353348612785339\n",
            "Test Loss: 0.17316125333309174\n"
          ]
        }
      ]
    },
    {
      "cell_type": "code",
      "source": [
        "prediction = model.predict(test_set)"
      ],
      "metadata": {
        "colab": {
          "base_uri": "https://localhost:8080/"
        },
        "id": "9bYOpJlCWAN0",
        "outputId": "192e1e26-cf43-4c15-91f0-5a9b5ec5f43a"
      },
      "execution_count": 16,
      "outputs": [
        {
          "output_type": "stream",
          "name": "stdout",
          "text": [
            "14/14 [==============================] - 7s 354ms/step\n"
          ]
        }
      ]
    },
    {
      "cell_type": "code",
      "source": [
        "model.save('/content/drive/MyDrive/dataset_new/driver_drowsiness_modelCNN.h5')"
      ],
      "metadata": {
        "colab": {
          "base_uri": "https://localhost:8080/"
        },
        "id": "weZ7BLBjWC4v",
        "outputId": "3ccbecca-aa2b-4059-fc1d-cf9bf9b4c065"
      },
      "execution_count": 17,
      "outputs": [
        {
          "output_type": "stream",
          "name": "stderr",
          "text": [
            "/usr/local/lib/python3.10/dist-packages/keras/src/engine/training.py:3103: UserWarning: You are saving your model as an HDF5 file via `model.save()`. This file format is considered legacy. We recommend using instead the native Keras format, e.g. `model.save('my_model.keras')`.\n",
            "  saving_api.save_model(\n"
          ]
        }
      ]
    },
    {
      "cell_type": "code",
      "source": [
        "# Plot training and validation accuracy\n",
        "plt.plot(history.history['accuracy'], label='Training Accuracy')\n",
        "plt.plot(history.history['val_accuracy'], label='Validation Accuracy')\n",
        "plt.xlabel('Epoch')\n",
        "plt.ylabel('Accuracy')\n",
        "plt.legend()\n",
        "plt.title('Training and Validation Accuracy')\n",
        "plt.show()\n",
        "\n",
        "# Plot training and validation loss\n",
        "plt.plot(history.history['loss'], label='Training Loss')\n",
        "plt.plot(history.history['val_loss'], label='Validation Loss')\n",
        "plt.xlabel('Epoch')\n",
        "plt.ylabel('Loss')\n",
        "plt.legend()\n",
        "plt.title('Training and Validation Loss')\n",
        "plt.show()\n",
        "\n"
      ],
      "metadata": {
        "colab": {
          "base_uri": "https://localhost:8080/",
          "height": 927
        },
        "id": "hjGLXXH7WFzK",
        "outputId": "18c81e2a-1f31-4523-f060-6e76b013d101"
      },
      "execution_count": 18,
      "outputs": [
        {
          "output_type": "display_data",
          "data": {
            "text/plain": [
              "<Figure size 640x480 with 1 Axes>"
            ],
            "image/png": "[encoded data removed]"
          },
          "metadata": {}
        },
        {
          "output_type": "display_data",
          "data": {
            "text/plain": [
              "<Figure size 640x480 with 1 Axes>"
            ],
            "image/png": "[encoded data removed]"
          },
          "metadata": {}
        }
      ]
    },
    {
      "cell_type": "code",
      "source": [
        "model.summary()"
      ],
      "metadata": {
        "colab": {
          "base_uri": "https://localhost:8080/"
        },
        "id": "vpMjtVRYWNGm",
        "outputId": "c05fc64c-6aaf-4919-adf7-8855d4aa183d"
      },
      "execution_count": 19,
      "outputs": [
        {
          "output_type": "stream",
          "name": "stdout",
          "text": [
            "Model: \"sequential_2\"\n",
            "_________________________________________________________________\n",
            " Layer (type)                Output Shape              Param #   \n",
            "=================================================================\n",
            " conv2d (Conv2D)             (None, 180, 180, 16)      448       \n",
            "                                                                 \n",
            " max_pooling2d (MaxPooling2  (None, 90, 90, 16)        0         \n",
            " D)                                                              \n",
            "                                                                 \n",
            " conv2d_1 (Conv2D)           (None, 90, 90, 32)        4640      \n",
            "                                                                 \n",
            " max_pooling2d_1 (MaxPoolin  (None, 45, 45, 32)        0         \n",
            " g2D)                                                            \n",
            "                                                                 \n",
            " conv2d_2 (Conv2D)           (None, 45, 45, 64)        18496     \n",
            "                                                                 \n",
            " max_pooling2d_2 (MaxPoolin  (None, 22, 22, 64)        0         \n",
            " g2D)                                                            \n",
            "                                                                 \n",
            " flatten (Flatten)           (None, 30976)             0         \n",
            "                                                                 \n",
            " dense (Dense)               (None, 128)               3965056   \n",
            "                                                                 \n",
            " dense_1 (Dense)             (None, 4)                 516       \n",
            "                                                                 \n",
            "=================================================================\n",
            "Total params: 3989156 (15.22 MB)\n",
            "Trainable params: 3989156 (15.22 MB)\n",
            "Non-trainable params: 0 (0.00 Byte)\n",
            "_________________________________________________________________\n"
          ]
        }
      ]
    }
  ]
}